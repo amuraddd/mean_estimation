{
 "cells": [
  {
   "cell_type": "code",
   "execution_count": null,
   "id": "a495f1a4-5e9e-4d20-a275-df83faadcda5",
   "metadata": {},
   "outputs": [],
   "source": [
    "from utils.preprocessing import preprocess_image #import the preprocessing function from utils\n",
    "from models.mean_estimation_dnn_model import train_predict #import the train_model function from models\n",
    "\n",
    "# preprocess images to get pixel values as Y and pixel coordinates as X\n",
    "X, Y = preprocess_image(data_location='{your_image_path}/*.nii', #change {your_image_path} to the location where your images are saved\n",
    "                        img_slice=20,\n",
    "                        num_images_to_use='all',\n",
    "                        plot_image_slice=False,\n",
    "                        plot_mean_image_slice=False)\n",
    "\n",
    "# define model parameters - currently set to default\n",
    "model_params = {\"num_layers\": 3,\n",
    "                \"neurons_per_layer\": 1000,\n",
    "                \"weight_initializer\": \"standard_normal\",\n",
    "                \"activation_per_layer\": \"relu\",\n",
    "                \"epochs\": 500,\n",
    "                \"loss\": \"mse\",\n",
    "                \"l1_regularizer\": True,\n",
    "                \"l1_penalty\": 1e-7,\n",
    "                \"batch_size\": 4,\n",
    "                \"verbose\": 0,\n",
    "                \"get_high_resolution_image\": True,\n",
    "                \"high_resolution_dimensions\": (500, 500),\n",
    "                \"cmap\": \"gray\",\n",
    "                \"save_image_location_and_name\": \"{your_high_res_image_path}.png\"} #change {your_high_res_image_path} to where the images must be saved\n",
    "\n",
    "# get model, model_history, and predicted pixel values\n",
    "model_history, model, y_pred = train_predict(X, Y, **model_params)"
   ]
  }
 ],
 "metadata": {
  "kernelspec": {
   "display_name": "Python 3 (ipykernel)",
   "language": "python",
   "name": "python3"
  },
  "language_info": {
   "codemirror_mode": {
    "name": "ipython",
    "version": 3
   },
   "file_extension": ".py",
   "mimetype": "text/x-python",
   "name": "python",
   "nbconvert_exporter": "python",
   "pygments_lexer": "ipython3",
   "version": "3.8.5"
  }
 },
 "nbformat": 4,
 "nbformat_minor": 5
}
